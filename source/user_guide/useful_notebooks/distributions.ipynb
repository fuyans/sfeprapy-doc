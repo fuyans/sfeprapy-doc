{
 "cells": [
  {
   "cell_type": "markdown",
   "source": [
    "# Sampling Distribution Parameters\r\n",
    "\r\n",
    "15th April 2021, Yan Fu\r\n",
    "\r\n",
    "Generates minimalistic plots for a variety of distribution types.\r\n"
   ],
   "metadata": {}
  },
  {
   "cell_type": "code",
   "execution_count": 1,
   "source": [
    "import matplotlib.pyplot as plt\r\n",
    "import numpy as np\r\n",
    "\r\n",
    "from sfeprapy.mcs.mcs_gen_2 import InputParser\r\n",
    "plt.style.use('seaborn-white')"
   ],
   "outputs": [],
   "metadata": {
    "pycharm": {
     "name": "#%%\n"
    }
   }
  },
  {
   "cell_type": "markdown",
   "source": [
    "## Sampling based upon distribution\r\n",
    "\r\n",
    "Sample defined distributions using `InputParser`, a thin layer built on top of scipy.stats module.\r\n"
   ],
   "metadata": {}
  },
  {
   "cell_type": "code",
   "execution_count": 2,
   "source": [
    "dist_obj = InputParser()\r\n",
    "df_dists = dist_obj.inputs2samples(\r\n",
    "    dist_params={\r\n",
    "        'Gumbel Type I': dict(\r\n",
    "            dist = 'gumbel_r_',\r\n",
    "            mean = 0,\r\n",
    "            sd = 1,\r\n",
    "            ubound=4,\r\n",
    "            lbound=-4,\r\n",
    "        ),\r\n",
    "        'Normal': dict(\r\n",
    "            dist = 'norm_',\r\n",
    "            mean=0,\r\n",
    "            sd=1,\r\n",
    "            ubound=4,\r\n",
    "            lbound=-4,\r\n",
    "        ),\r\n",
    "        'Uniform': dict(\r\n",
    "            dist = 'uniform_',\r\n",
    "            ubound=4,\r\n",
    "            lbound=-4,\r\n",
    "        ),\r\n",
    "        'Lognorm': dict(\r\n",
    "            dist = 'lognorm_',\r\n",
    "            mean=1,\r\n",
    "            sd=1,\r\n",
    "            ubound=4,\r\n",
    "            lbound=-4,\r\n",
    "        ),\r\n",
    "        'Complementary Lognorm': dict(\r\n",
    "            dist='lognorm_mod_',\r\n",
    "            ubound=1,\r\n",
    "            lbound=0,\r\n",
    "            mean=0.2,\r\n",
    "            sd=0.2,\r\n",
    "        )\r\n",
    "    },\r\n",
    "    num_samples = 10000\r\n",
    ")\r\n",
    "\r\n",
    "df_dists.drop('index', axis=1, inplace=True)  # index column not used"
   ],
   "outputs": [],
   "metadata": {
    "pycharm": {
     "name": "#%%\n"
    }
   }
  },
  {
   "cell_type": "markdown",
   "source": [
    "## Histogram plots for the sampled values\r\n"
   ],
   "metadata": {}
  },
  {
   "cell_type": "code",
   "execution_count": 3,
   "source": [
    "\r\n",
    "fig, axes = plt.subplots(nrows=1, ncols=len(df_dists.columns), figsize=(1.15*len(df_dists.columns), 1.2))\r\n",
    "\r\n",
    "for i, k in enumerate(df_dists.columns):\r\n",
    "    try:\r\n",
    "        ax = axes[i]\r\n",
    "    except TypeError:\r\n",
    "        ax = axes\r\n",
    "\r\n",
    "    data = np.array(df_dists[k].values)\r\n",
    "    bins=np.linspace(data.min(), data.max(), 20)\r\n",
    "    ax.hist(data, bins=20, alpha=0.9, histtype='bar', ec='k', color=(0, 164/255, 153/255))\r\n",
    "\r\n",
    "    ax.get_yaxis().set_visible(False)\r\n",
    "    ax.set_xticks([])\r\n",
    "    ax.set_xlabel(k, fontsize='x-small')\r\n",
    "\r\n",
    "plt.tight_layout()\r\n",
    "plt.show()\r\n",
    "# fig.savefig('dists.png', dpi=300, bbox_inches='tight', pad_inches=0.015)"
   ],
   "outputs": [
    {
     "output_type": "display_data",
     "data": {
      "text/plain": [
       "<Figure size 575x120 with 5 Axes>"
      ],
      "image/png": "[encoded data removed]"
     },
     "metadata": {}
    }
   ],
   "metadata": {
    "pycharm": {
     "name": "#%%\n"
    }
   }
  }
 ],
 "metadata": {
  "kernelspec": {
   "name": "python3",
   "display_name": "Python 3.9.0 64-bit ('dev39': conda)"
  },
  "language_info": {
   "codemirror_mode": {
    "name": "ipython",
    "version": 3
   },
   "file_extension": ".py",
   "mimetype": "text/x-python",
   "name": "python",
   "nbconvert_exporter": "python",
   "pygments_lexer": "ipython3",
   "version": "3.9.0"
  },
  "interpreter": {
   "hash": "cc9ef8b188e9eb4eccd541940c9ed34b4418d9e7046874c92d0a43ba03832ee5"
  }
 },
 "nbformat": 4,
 "nbformat_minor": 4
}