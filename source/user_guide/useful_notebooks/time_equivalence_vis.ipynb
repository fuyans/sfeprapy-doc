{
 "cells": [
  {
   "cell_type": "markdown",
   "source": [
    "# Time equivalence concept and figures\r\n",
    "\r\n",
    "10th Aug 2021, Ian Fu\r\n"
   ],
   "metadata": {}
  },
  {
   "cell_type": "code",
   "execution_count": null,
   "source": [
    "import numpy as np\r\n",
    "from fsetools.lib.fse_travelling_fire import temperature_si as func_trav_fire\r\n",
    "from fsetools.lib.fse_bs_en_1991_1_2_parametric_fire import temperature as func_param_fire\r\n",
    "from fsetools.lib.fse_bs_en_1993_1_2_heat_transfer_c import temperature as func_ht\r\n",
    "import matplotlib.pyplot as plt\r\n",
    "\r\n",
    "%matplotlib inline\r\n",
    "plt.style.use('seaborn-paper')"
   ],
   "outputs": [],
   "metadata": {}
  },
  {
   "cell_type": "markdown",
   "source": [
    "## Fire models\r\n",
    "\r\n",
    "Generates temperature `T_param` and `T_trav` for parametric and\r\n",
    "travelling fire, respectively.\r\n"
   ],
   "metadata": {}
  },
  {
   "cell_type": "code",
   "execution_count": null,
   "source": [
    "t = np.arange(0, 120*60+1, 1, dtype=float)\r\n",
    "T_trav = func_trav_fire(\r\n",
    "    t=t,\r\n",
    "    T_0=293.15,\r\n",
    "    q_f_d=420e6,\r\n",
    "    hrrpua=0.25e6,\r\n",
    "    l=50,\r\n",
    "    w=16,\r\n",
    "    s=0.012,\r\n",
    "    e_h=3,\r\n",
    "    e_l=35,\r\n",
    "    T_max=1100+273.15\r\n",
    ")\r\n",
    "T_param = func_param_fire(\r\n",
    "    t=t,\r\n",
    "    A_v=66,\r\n",
    "    A_t=(3*16+16*32+32*3)*2,\r\n",
    "    A_f=16*32,\r\n",
    "    h_eq=1.5,\r\n",
    "    q_fd=420e6,\r\n",
    "    lambda_=1,\r\n",
    "    rho=1,\r\n",
    "    c=720 ** 2,\r\n",
    "    t_lim=20 * 60,\r\n",
    "    temperature_initial=293.15,\r\n",
    ")"
   ],
   "outputs": [],
   "metadata": {}
  },
  {
   "cell_type": "code",
   "execution_count": null,
   "source": [
    "fig, ax = plt.subplots(figsize=(6,3.7), dpi=100)\r\n",
    "ax.plot(t/60., T_param-273.15, c='k', ls='-', label='Parametric fire')\r\n",
    "ax.plot(t/60., T_trav-273.15, c='k', ls='--', label='Travelling fire')\r\n",
    "ax.grid(which='both', ls='--')\r\n",
    "ax.set_xlabel('Time [min]', fontsize='small')\r\n",
    "ax.set_xlim(0, 120)\r\n",
    "ax.set_xticks(np.arange(0, 121, 15))\r\n",
    "ax.set_ylabel('Temperature [$^oC$]', fontsize='small')\r\n",
    "ax.set_ylim(0,1200)\r\n",
    "ax.set_yticks(np.arange(0, 1201, 200))\r\n",
    "ax.tick_params(axis='both', which='both', labelsize='x-small')\r\n",
    "ax.legend(shadow=False, fancybox=False, edgecolor='k', fontsize='x-small').set_visible(True)\r\n",
    "fig.savefig('param_and_trav_fires.png', dpi=600, bbox_inches='tight')"
   ],
   "outputs": [],
   "metadata": {}
  },
  {
   "cell_type": "markdown",
   "source": [
    "## Heat transfer"
   ],
   "metadata": {}
  },
  {
   "cell_type": "code",
   "execution_count": null,
   "source": [
    "kwargs_common = dict(\r\n",
    "    beam_rho=7850,\r\n",
    "    beam_cross_section_area=0.017,\r\n",
    "    protection_k=0.2,\r\n",
    "    protection_rho=800,\r\n",
    "    protection_c=1700,\r\n",
    "    protection_protected_perimeter=2.14,\r\n",
    ")\r\n",
    "\r\n",
    "T_s_trav = func_ht(\r\n",
    "    fire_time=t,\r\n",
    "    fire_temperature=T_trav,\r\n",
    "    protection_thickness=0.0147,\r\n",
    "    **kwargs_common\r\n",
    ")\r\n",
    "T_s_param = func_ht(\r\n",
    "    fire_time=t,\r\n",
    "    fire_temperature=T_param,\r\n",
    "    protection_thickness=0.017,\r\n",
    "    **kwargs_common\r\n",
    ");"
   ],
   "outputs": [],
   "metadata": {}
  },
  {
   "cell_type": "code",
   "execution_count": null,
   "source": [
    "fig, (ax1, ax2) = plt.subplots(ncols=2, nrows=1, figsize=(6.8, 3.25), dpi=100, sharey=True)\r\n",
    "\r\n",
    "ax1.plot(t/60., T_param-273.15, c='k', ls='-', label='Parametric fire')\r\n",
    "ax1.plot(t/60., T_s_param-273.15, c='k', ls='--', label='Steel')\r\n",
    "ax2.plot(t/60., T_trav-273.15, c='k', ls='-', label='Travelling fire')\r\n",
    "ax2.plot(t/60., T_s_trav-273.15, c='k', ls='--', label='Steel')\r\n",
    "for ax in (ax1, ax2):\r\n",
    "    ax.grid(which='both', ls='--')\r\n",
    "    ax.set_xlabel('Time [min]', fontsize='small')\r\n",
    "    ax.set_xlim(0, 120)\r\n",
    "    ax.set_xticks(np.arange(0, 121, 15))\r\n",
    "    ax.set_ylim(0,1200)\r\n",
    "    ax.set_yticks(np.arange(0, 1201, 200))\r\n",
    "    ax.tick_params(axis='both', which='both', labelsize='x-small')\r\n",
    "    ax.legend(shadow=False, fancybox=False, edgecolor='k', fontsize='x-small').set_visible(True)\r\n",
    "\r\n",
    "ax1.set_ylabel('Temperature [$^oC$]', fontsize='small');"
   ],
   "outputs": [],
   "metadata": {}
  },
  {
   "cell_type": "markdown",
   "source": [
    "## Equivalent of time exposure"
   ],
   "metadata": {}
  },
  {
   "cell_type": "code",
   "execution_count": null,
   "source": [
    "kwargs_common['protection_thickness'] = 0.017\r\n",
    "T_s_param = func_ht(\r\n",
    "    fire_time=t,\r\n",
    "    fire_temperature=T_param,\r\n",
    "    **kwargs_common\r\n",
    ")\r\n",
    "T_s_iso = func_ht(\r\n",
    "    fire_time=t,\r\n",
    "    fire_temperature=273.15+345*np.log10(8*t/60+1)+20.,\r\n",
    "    **kwargs_common\r\n",
    ");"
   ],
   "outputs": [],
   "metadata": {}
  },
  {
   "cell_type": "code",
   "execution_count": null,
   "source": [
    "from matplotlib.patches import ConnectionPatch\r\n",
    "\r\n",
    "fig, (ax1, ax2) = plt.subplots(ncols=2, nrows=1, figsize=(6.8, 3.25), dpi=100, sharey=True)\r\n",
    "\r\n",
    "ax1.plot(t/60., T_param-273.15, c='k', ls='-', label='Design fire temperature')\r\n",
    "ax1.plot(t/60., T_s_param-273.15, c='k', ls='--', label='Member temperature')\r\n",
    "ax2.plot(t/60., 345*np.log10(8*t/60+1)+20., c='k', ls='-', label='Standard fire temperature')\r\n",
    "ax2.plot(t/60., T_s_iso-273.15, c='k', ls='--', label='Member temperature')\r\n",
    "con1 = ConnectionPatch(\r\n",
    "    xyA=(t[np.argmax(T_s_param)]/60., np.amax(T_s_param)-273.15), \r\n",
    "    xyB=(t[np.argmin(abs(T_s_iso-np.amax(T_s_param)))]/60., np.amax(T_s_param)-273.15), \r\n",
    "    coordsA=\"data\", coordsB=\"data\", axesA=ax1, axesB=ax2, arrowstyle=\"->\", shrinkB=0, color=(0, 164/255, 153/255), alpha=1, linewidth=1\r\n",
    ")\r\n",
    "con2 = ConnectionPatch(\r\n",
    "    xyA=(t[np.argmin(abs(T_s_iso-np.amax(T_s_param)))]/60., np.amax(T_s_param)-273.15), \r\n",
    "    xyB=(t[np.argmin(abs(T_s_iso-np.amax(T_s_param)))]/60., 0), \r\n",
    "    coordsA=\"data\", coordsB=\"data\", axesA=ax2, axesB=ax2, arrowstyle=\"->\", shrinkB=0, color=(0, 164/255, 153/255), alpha=1, linewidth=1\r\n",
    ")\r\n",
    "ax2.annotate(\"\", xy =(0, 100), xytext = (t[np.argmin(abs(T_s_iso-np.amax(T_s_param)))]/60., 100), arrowprops = dict(arrowstyle=\"<->\", shrinkA = 0, shrinkB = 0, linestyle = '-', mutation_scale = 10, color = (0, 164/255, 153/255), linewidth = 1))\r\n",
    "ax2.text(t[np.argmin(abs(T_s_iso-np.amax(T_s_param)))]/60./2, 150, 'Exquivalent time, $t_{ed}$', fontsize='small', ha='center', c=(0, 164/255, 153/255), bbox=dict(boxstyle='square,pad=.05', fc=(1, 1, 1, 0.8), ec='none'))\r\n",
    "ax2.add_artist(con1)\r\n",
    "ax2.add_artist(con2)\r\n",
    "for ax in (ax1, ax2):\r\n",
    "    ax.grid(which='both', ls='--')\r\n",
    "    ax.set_xlabel('Time [min]', fontsize='small')\r\n",
    "    ax.set_xlim(0, 120)\r\n",
    "    ax.set_xticks(np.arange(0, 121, 15))\r\n",
    "    ax.set_ylim(0,1200)\r\n",
    "    ax.set_yticks(np.arange(0, 1201, 200))\r\n",
    "    ax.tick_params(axis='both', which='both', labelsize='x-small')\r\n",
    "    ax.legend(shadow=False, fancybox=False, edgecolor='k', fontsize='x-small').set_visible(True)\r\n",
    "\r\n",
    "ax1.set_ylabel('Temperature [$^oC$]', fontsize='small');\r\n",
    "fig.savefig('time-equivalence.png', dpi=600, bbox_inches='tight');"
   ],
   "outputs": [],
   "metadata": {}
  },
  {
   "cell_type": "markdown",
   "source": [
    "end"
   ],
   "metadata": {}
  }
 ],
 "metadata": {
  "kernelspec": {
   "name": "python3",
   "display_name": "Python 3.9.0 64-bit ('dev39': conda)"
  },
  "language_info": {
   "codemirror_mode": {
    "name": "ipython",
    "version": 3
   },
   "file_extension": ".py",
   "mimetype": "text/x-python",
   "name": "python",
   "nbconvert_exporter": "python",
   "pygments_lexer": "ipython3",
   "version": "3.9.0"
  },
  "interpreter": {
   "hash": "cc9ef8b188e9eb4eccd541940c9ed34b4418d9e7046874c92d0a43ba03832ee5"
  }
 },
 "nbformat": 4,
 "nbformat_minor": 4
}